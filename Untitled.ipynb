{
 "cells": [
  {
   "cell_type": "code",
   "execution_count": 1,
   "metadata": {},
   "outputs": [
    {
     "name": "stdout",
     "output_type": "stream",
     "text": [
      "[1, 2, 3, 4, 5, 6, 7, 8, 9] 25 36\n"
     ]
    }
   ],
   "source": [
    "num_list = [1, 9, 8, 5, 6, 7, 4, 3, 2]\n",
    "length = len(num_list)\n",
    "count_swap = 0\n",
    "count = 0\n",
    "for i in range(length):\n",
    "    for  j in range(length-i-1):\n",
    "        count += 1\n",
    "        if num_list[j] > num_list[j+1]:\n",
    "            tmp = num_list[j]\n",
    "            num_list[j] = num_list[j+1]\n",
    "            num_list[j+1] = tmp\n",
    "            count_swap += 1\n",
    "print(num_list, count_swap, count)"
   ]
  },
  {
   "cell_type": "code",
   "execution_count": null,
   "metadata": {},
   "outputs": [],
   "source": []
  }
 ],
 "metadata": {
  "kernelspec": {
   "display_name": "Python 3",
   "language": "python",
   "name": "python3"
  },
  "language_info": {
   "codemirror_mode": {
    "name": "ipython",
    "version": 3
   },
   "file_extension": ".py",
   "mimetype": "text/x-python",
   "name": "python",
   "nbconvert_exporter": "python",
   "pygments_lexer": "ipython3",
   "version": "3.7.3"
  }
 },
 "nbformat": 4,
 "nbformat_minor": 2
}
